{
 "cells": [
  {
   "cell_type": "markdown",
   "metadata": {},
   "source": [
    "# Homework 6 (Momentum)"
   ]
  },
  {
   "cell_type": "code",
   "execution_count": 29,
   "metadata": {},
   "outputs": [],
   "source": [
    "import pandas as pd\n",
    "import numpy as np\n",
    "import matplotlib.pyplot as plt\n",
    "import statsmodels.api as sm\n",
    "from sklearn import linear_model\n",
    "import scipy.stats as stats\n",
    "import matplotlib.pyplot as plt \n",
    "import matplotlib as mpl\n",
    "import seaborn as sns\n",
    "import warnings\n",
    "warnings.filterwarnings(\"ignore\")\n",
    "pd.set_option(\"display.precision\", 4)\n"
   ]
  },
  {
   "cell_type": "code",
   "execution_count": 30,
   "metadata": {},
   "outputs": [],
   "source": [
    "\n",
    "pd.set_option(\"display.precision\", 4)\n",
    "plt.style.use(\"seaborn\")\n",
    "mpl.rcParams['font.family'] = 'serif'\n",
    "%matplotlib inline"
   ]
  },
  {
   "cell_type": "markdown",
   "metadata": {},
   "source": [
    "## Section 2 (Investigating Momentum)"
   ]
  },
  {
   "cell_type": "code",
   "execution_count": 4,
   "metadata": {},
   "outputs": [
    {
     "data": {
      "text/html": [
       "<div>\n",
       "<style scoped>\n",
       "    .dataframe tbody tr th:only-of-type {\n",
       "        vertical-align: middle;\n",
       "    }\n",
       "\n",
       "    .dataframe tbody tr th {\n",
       "        vertical-align: top;\n",
       "    }\n",
       "\n",
       "    .dataframe thead th {\n",
       "        text-align: right;\n",
       "    }\n",
       "</style>\n",
       "<table border=\"1\" class=\"dataframe\">\n",
       "  <thead>\n",
       "    <tr style=\"text-align: right;\">\n",
       "      <th></th>\n",
       "      <th>Factor</th>\n",
       "      <th>Name</th>\n",
       "      <th>Unit</th>\n",
       "      <th>Construction</th>\n",
       "      <th>Description</th>\n",
       "    </tr>\n",
       "  </thead>\n",
       "  <tbody>\n",
       "    <tr>\n",
       "      <th>0</th>\n",
       "      <td>MKT</td>\n",
       "      <td>Market</td>\n",
       "      <td>Excess Return</td>\n",
       "      <td>Market-cap-weighted</td>\n",
       "      <td>US Equities</td>\n",
       "    </tr>\n",
       "    <tr>\n",
       "      <th>1</th>\n",
       "      <td>SMB</td>\n",
       "      <td>Size</td>\n",
       "      <td>Excess Return</td>\n",
       "      <td>Small Minus Big</td>\n",
       "      <td>Long small stocks and short big stocks</td>\n",
       "    </tr>\n",
       "    <tr>\n",
       "      <th>2</th>\n",
       "      <td>HML</td>\n",
       "      <td>Value</td>\n",
       "      <td>Excess Return</td>\n",
       "      <td>High Minus Low</td>\n",
       "      <td>Long value (high book-to-market) stocks and sh...</td>\n",
       "    </tr>\n",
       "    <tr>\n",
       "      <th>3</th>\n",
       "      <td>RF</td>\n",
       "      <td>Risk-free rate</td>\n",
       "      <td>Total Return</td>\n",
       "      <td>Tbills</td>\n",
       "      <td>NaN</td>\n",
       "    </tr>\n",
       "    <tr>\n",
       "      <th>4</th>\n",
       "      <td>SMALL LoPRIOR</td>\n",
       "      <td>Small Down</td>\n",
       "      <td>Total Return</td>\n",
       "      <td>Small Losers</td>\n",
       "      <td>Bottom 3 deciles and Small</td>\n",
       "    </tr>\n",
       "    <tr>\n",
       "      <th>5</th>\n",
       "      <td>SMALL HiPRIOR</td>\n",
       "      <td>Small Up</td>\n",
       "      <td>Total Return</td>\n",
       "      <td>Small Winners</td>\n",
       "      <td>Top 3 deciles and Small</td>\n",
       "    </tr>\n",
       "    <tr>\n",
       "      <th>6</th>\n",
       "      <td>BIG LoPRIOR</td>\n",
       "      <td>Big Down</td>\n",
       "      <td>Total Return</td>\n",
       "      <td>Big Losers</td>\n",
       "      <td>Bottom 3 deciles and Big</td>\n",
       "    </tr>\n",
       "    <tr>\n",
       "      <th>7</th>\n",
       "      <td>BIG HiPRIOR</td>\n",
       "      <td>Big Up</td>\n",
       "      <td>Total Return</td>\n",
       "      <td>Big Winners</td>\n",
       "      <td>Top 3 deciles and Big</td>\n",
       "    </tr>\n",
       "  </tbody>\n",
       "</table>\n",
       "</div>"
      ],
      "text/plain": [
       "          Factor            Name           Unit         Construction  \\\n",
       "0            MKT          Market  Excess Return  Market-cap-weighted   \n",
       "1            SMB            Size  Excess Return      Small Minus Big   \n",
       "2            HML           Value  Excess Return       High Minus Low   \n",
       "3             RF  Risk-free rate   Total Return               Tbills   \n",
       "4  SMALL LoPRIOR      Small Down   Total Return         Small Losers   \n",
       "5  SMALL HiPRIOR        Small Up   Total Return        Small Winners   \n",
       "6    BIG LoPRIOR        Big Down   Total Return           Big Losers   \n",
       "7    BIG HiPRIOR          Big Up   Total Return          Big Winners   \n",
       "\n",
       "                                         Description  \n",
       "0                                        US Equities  \n",
       "1             Long small stocks and short big stocks  \n",
       "2  Long value (high book-to-market) stocks and sh...  \n",
       "3                                                NaN  \n",
       "4                         Bottom 3 deciles and Small  \n",
       "5                            Top 3 deciles and Small  \n",
       "6                           Bottom 3 deciles and Big  \n",
       "7                              Top 3 deciles and Big  "
      ]
     },
     "execution_count": 4,
     "metadata": {},
     "output_type": "execute_result"
    }
   ],
   "source": [
    "file_path = '/Users/dannystein/One Drive Folder/OneDrive/uchicago/portfolio_theory/momentum_data.xlsx'\n",
    "momentum_info = pd.read_excel(file_path, sheet_name = 'descriptions')\n",
    "momentum_info = momentum_info.rename(columns = {'Unnamed: 0': \"Factor\"})\n",
    "momentum_info"
   ]
  },
  {
   "cell_type": "markdown",
   "metadata": {},
   "source": [
    "## Is Momentum Profitable\n",
    "\n",
    "- Have momentum returns changed since 2009-2022 (the time this case occurred)?"
   ]
  },
  {
   "cell_type": "code",
   "execution_count": 14,
   "metadata": {},
   "outputs": [
    {
     "data": {
      "text/html": [
       "<div>\n",
       "<style scoped>\n",
       "    .dataframe tbody tr th:only-of-type {\n",
       "        vertical-align: middle;\n",
       "    }\n",
       "\n",
       "    .dataframe tbody tr th {\n",
       "        vertical-align: top;\n",
       "    }\n",
       "\n",
       "    .dataframe thead th {\n",
       "        text-align: right;\n",
       "    }\n",
       "</style>\n",
       "<table border=\"1\" class=\"dataframe\">\n",
       "  <thead>\n",
       "    <tr style=\"text-align: right;\">\n",
       "      <th></th>\n",
       "      <th>UMD</th>\n",
       "      <th>MKT</th>\n",
       "      <th>SMB</th>\n",
       "      <th>HML</th>\n",
       "    </tr>\n",
       "    <tr>\n",
       "      <th>Date</th>\n",
       "      <th></th>\n",
       "      <th></th>\n",
       "      <th></th>\n",
       "      <th></th>\n",
       "    </tr>\n",
       "  </thead>\n",
       "  <tbody>\n",
       "    <tr>\n",
       "      <th>1927-01-31</th>\n",
       "      <td>0.0036</td>\n",
       "      <td>-0.0006</td>\n",
       "      <td>-0.0037</td>\n",
       "      <td>0.0454</td>\n",
       "    </tr>\n",
       "    <tr>\n",
       "      <th>1927-02-28</th>\n",
       "      <td>-0.0214</td>\n",
       "      <td>0.0418</td>\n",
       "      <td>0.0004</td>\n",
       "      <td>0.0294</td>\n",
       "    </tr>\n",
       "    <tr>\n",
       "      <th>1927-03-31</th>\n",
       "      <td>0.0361</td>\n",
       "      <td>0.0013</td>\n",
       "      <td>-0.0165</td>\n",
       "      <td>-0.0261</td>\n",
       "    </tr>\n",
       "    <tr>\n",
       "      <th>1927-04-30</th>\n",
       "      <td>0.0430</td>\n",
       "      <td>0.0046</td>\n",
       "      <td>0.0030</td>\n",
       "      <td>0.0081</td>\n",
       "    </tr>\n",
       "  </tbody>\n",
       "</table>\n",
       "</div>"
      ],
      "text/plain": [
       "               UMD     MKT     SMB     HML\n",
       "Date                                      \n",
       "1927-01-31  0.0036 -0.0006 -0.0037  0.0454\n",
       "1927-02-28 -0.0214  0.0418  0.0004  0.0294\n",
       "1927-03-31  0.0361  0.0013 -0.0165 -0.0261\n",
       "1927-04-30  0.0430  0.0046  0.0030  0.0081"
      ]
     },
     "execution_count": 14,
     "metadata": {},
     "output_type": "execute_result"
    }
   ],
   "source": [
    "# Import the momentum returns\n",
    "\n",
    "df_mom_size = pd.read_excel(file_path,parse_dates=True, sheet_name=2).set_index(\"Date\")\n",
    "ff_factors = pd.read_excel(file_path, sheet_name=1).set_index(\"Date\")\n",
    "\n",
    "df_mom_size = df_mom_size.join(ff_factors)\n",
    "df_mom_size.head(4)"
   ]
  },
  {
   "cell_type": "code",
   "execution_count": 17,
   "metadata": {},
   "outputs": [
    {
     "data": {
      "text/html": [
       "<div>\n",
       "<style scoped>\n",
       "    .dataframe tbody tr th:only-of-type {\n",
       "        vertical-align: middle;\n",
       "    }\n",
       "\n",
       "    .dataframe tbody tr th {\n",
       "        vertical-align: top;\n",
       "    }\n",
       "\n",
       "    .dataframe thead th {\n",
       "        text-align: right;\n",
       "    }\n",
       "</style>\n",
       "<table border=\"1\" class=\"dataframe\">\n",
       "  <thead>\n",
       "    <tr style=\"text-align: right;\">\n",
       "      <th></th>\n",
       "      <th>mean</th>\n",
       "      <th>vol</th>\n",
       "      <th>sharpe</th>\n",
       "      <th>skew</th>\n",
       "      <th>corr_to_mkt</th>\n",
       "      <th>corr_to_value</th>\n",
       "    </tr>\n",
       "  </thead>\n",
       "  <tbody>\n",
       "    <tr>\n",
       "      <th>1927-2022</th>\n",
       "      <td>0.0773</td>\n",
       "      <td>0.1626</td>\n",
       "      <td>0.4751</td>\n",
       "      <td>-3.0155</td>\n",
       "      <td>-0.3448</td>\n",
       "      <td>-0.4176</td>\n",
       "    </tr>\n",
       "    <tr>\n",
       "      <th>1927-1993</th>\n",
       "      <td>0.0901</td>\n",
       "      <td>0.16</td>\n",
       "      <td>0.5632</td>\n",
       "      <td>-3.809</td>\n",
       "      <td>-0.3625</td>\n",
       "      <td>-0.495</td>\n",
       "    </tr>\n",
       "    <tr>\n",
       "      <th>1994-2008</th>\n",
       "      <td>0.1044</td>\n",
       "      <td>0.1756</td>\n",
       "      <td>0.5945</td>\n",
       "      <td>-0.582</td>\n",
       "      <td>-0.2345</td>\n",
       "      <td>-0.1307</td>\n",
       "    </tr>\n",
       "    <tr>\n",
       "      <th>2009-2022</th>\n",
       "      <td>-0.0149</td>\n",
       "      <td>0.1593</td>\n",
       "      <td>-0.0932</td>\n",
       "      <td>-2.8116</td>\n",
       "      <td>-0.3779</td>\n",
       "      <td>-0.3852</td>\n",
       "    </tr>\n",
       "  </tbody>\n",
       "</table>\n",
       "</div>"
      ],
      "text/plain": [
       "             mean     vol  sharpe    skew corr_to_mkt corr_to_value\n",
       "1927-2022  0.0773  0.1626  0.4751 -3.0155     -0.3448       -0.4176\n",
       "1927-1993  0.0901    0.16  0.5632  -3.809     -0.3625        -0.495\n",
       "1994-2008  0.1044  0.1756  0.5945  -0.582     -0.2345       -0.1307\n",
       "2009-2022 -0.0149  0.1593 -0.0932 -2.8116     -0.3779       -0.3852"
      ]
     },
     "execution_count": 17,
     "metadata": {},
     "output_type": "execute_result"
    }
   ],
   "source": [
    "def table_row(df, portfolio, annualize_factor =12):\n",
    "    mean = df[portfolio].mean()*annualize_factor\n",
    "    vol = df[portfolio].std()*np.sqrt(annualize_factor)\n",
    "    sharpe = mean/vol\n",
    "    skew = df[portfolio].skew()\n",
    "    corr = df[[portfolio, 'MKT','HML']].corr()\n",
    "    corr_to_mkt = corr.loc[portfolio,'MKT']\n",
    "    corr_to_value = corr.loc[portfolio,'HML']\n",
    "    return [mean, vol, sharpe,skew, corr_to_mkt, corr_to_value]\n",
    "\n",
    "table1 = pd.DataFrame(index=['1927-2022','1927-1993','1994-2008','2009-2022'], columns = ['mean', 'vol', 'sharpe','skew', 'corr_to_mkt', 'corr_to_value'])\n",
    "\n",
    "table1.loc['1927-2022',:] = table_row(df_mom_size.loc['1927':'2022',:],portfolio='UMD')\n",
    "table1.loc['1927-1993',:] = table_row(df_mom_size.loc['1927':'1993',:],portfolio='UMD')\n",
    "table1.loc['1994-2008',:] = table_row(df_mom_size.loc['1994':'2008',:],portfolio='UMD')\n",
    "table1.loc['2009-2022',:] = table_row(df_mom_size.loc['2009':'2022',:],portfolio='UMD')\n",
    "\n",
    "table1"
   ]
  },
  {
   "cell_type": "markdown",
   "metadata": {},
   "source": [
    "## 2. Construct your own long-only implementation\n",
    "\n",
    "$\\tilde{r}^{momU:FF} = \\frac{1}{2} \\left( r^{momBU} + r^{momSU} \\right) - r^f$"
   ]
  },
  {
   "cell_type": "code",
   "execution_count": 21,
   "metadata": {},
   "outputs": [
    {
     "data": {
      "text/html": [
       "<div>\n",
       "<style scoped>\n",
       "    .dataframe tbody tr th:only-of-type {\n",
       "        vertical-align: middle;\n",
       "    }\n",
       "\n",
       "    .dataframe tbody tr th {\n",
       "        vertical-align: top;\n",
       "    }\n",
       "\n",
       "    .dataframe thead th {\n",
       "        text-align: right;\n",
       "    }\n",
       "</style>\n",
       "<table border=\"1\" class=\"dataframe\">\n",
       "  <thead>\n",
       "    <tr style=\"text-align: right;\">\n",
       "      <th></th>\n",
       "      <th>SMALL LoPRIOR</th>\n",
       "      <th>ME1 PRIOR2</th>\n",
       "      <th>SMALL HiPRIOR</th>\n",
       "      <th>BIG LoPRIOR</th>\n",
       "      <th>ME2 PRIOR2</th>\n",
       "      <th>BIG HiPRIOR</th>\n",
       "      <th>RF</th>\n",
       "    </tr>\n",
       "    <tr>\n",
       "      <th>Date</th>\n",
       "      <th></th>\n",
       "      <th></th>\n",
       "      <th></th>\n",
       "      <th></th>\n",
       "      <th></th>\n",
       "      <th></th>\n",
       "      <th></th>\n",
       "    </tr>\n",
       "  </thead>\n",
       "  <tbody>\n",
       "    <tr>\n",
       "      <th>1927-01-31</th>\n",
       "      <td>0.0008</td>\n",
       "      <td>0.0357</td>\n",
       "      <td>0.0040</td>\n",
       "      <td>-0.0040</td>\n",
       "      <td>0.0026</td>\n",
       "      <td>0.0000</td>\n",
       "      <td>0.0025</td>\n",
       "    </tr>\n",
       "    <tr>\n",
       "      <th>1927-02-28</th>\n",
       "      <td>0.0701</td>\n",
       "      <td>0.0648</td>\n",
       "      <td>0.0551</td>\n",
       "      <td>0.0727</td>\n",
       "      <td>0.0380</td>\n",
       "      <td>0.0447</td>\n",
       "      <td>0.0026</td>\n",
       "    </tr>\n",
       "    <tr>\n",
       "      <th>1927-03-31</th>\n",
       "      <td>-0.0346</td>\n",
       "      <td>-0.0288</td>\n",
       "      <td>-0.0206</td>\n",
       "      <td>-0.0357</td>\n",
       "      <td>-0.0018</td>\n",
       "      <td>0.0226</td>\n",
       "      <td>0.0030</td>\n",
       "    </tr>\n",
       "  </tbody>\n",
       "</table>\n",
       "</div>"
      ],
      "text/plain": [
       "            SMALL LoPRIOR  ME1 PRIOR2  SMALL HiPRIOR  BIG LoPRIOR  ME2 PRIOR2  \\\n",
       "Date                                                                            \n",
       "1927-01-31         0.0008      0.0357         0.0040      -0.0040      0.0026   \n",
       "1927-02-28         0.0701      0.0648         0.0551       0.0727      0.0380   \n",
       "1927-03-31        -0.0346     -0.0288        -0.0206      -0.0357     -0.0018   \n",
       "\n",
       "            BIG HiPRIOR      RF  \n",
       "Date                             \n",
       "1927-01-31       0.0000  0.0025  \n",
       "1927-02-28       0.0447  0.0026  \n",
       "1927-03-31       0.0226  0.0030  "
      ]
     },
     "execution_count": 21,
     "metadata": {},
     "output_type": "execute_result"
    }
   ],
   "source": [
    "#import the data\n",
    "df_port_mom = pd.read_excel(file_path, sheet_name=4).set_index(\"Date\")\n",
    "df_rf = pd.read_excel(file_path, sheet_name=5).set_index(\"Date\")\n",
    "df_port_mom = df_port_mom.join(df_rf)\n",
    "df_port_mom.head(3)"
   ]
  },
  {
   "cell_type": "code",
   "execution_count": 26,
   "metadata": {},
   "outputs": [],
   "source": [
    "#Constructing my own long-only implementation\n",
    "\n",
    "df_port_mom['rx_mom_U_FF'] = (1/2 * (df_port_mom['BIG HiPRIOR']+df_port_mom['SMALL HiPRIOR']))-df_port_mom['RF']\n",
    "\n",
    "df_mom_size['rx_mom_U_FF'] = df_port_mom['rx_mom_U_FF']"
   ]
  },
  {
   "cell_type": "code",
   "execution_count": 28,
   "metadata": {},
   "outputs": [
    {
     "data": {
      "text/html": [
       "<div>\n",
       "<style scoped>\n",
       "    .dataframe tbody tr th:only-of-type {\n",
       "        vertical-align: middle;\n",
       "    }\n",
       "\n",
       "    .dataframe tbody tr th {\n",
       "        vertical-align: top;\n",
       "    }\n",
       "\n",
       "    .dataframe thead th {\n",
       "        text-align: right;\n",
       "    }\n",
       "</style>\n",
       "<table border=\"1\" class=\"dataframe\">\n",
       "  <thead>\n",
       "    <tr style=\"text-align: right;\">\n",
       "      <th></th>\n",
       "      <th>mean</th>\n",
       "      <th>vol</th>\n",
       "      <th>sharpe_ratio</th>\n",
       "      <th>skew</th>\n",
       "      <th>corr_to_mkt</th>\n",
       "      <th>corr_to_value</th>\n",
       "    </tr>\n",
       "  </thead>\n",
       "  <tbody>\n",
       "    <tr>\n",
       "      <th>long_short</th>\n",
       "      <td>0.0474</td>\n",
       "      <td>0.1686</td>\n",
       "      <td>0.2809</td>\n",
       "      <td>-1.4336</td>\n",
       "      <td>-0.3061</td>\n",
       "      <td>-0.2386</td>\n",
       "    </tr>\n",
       "    <tr>\n",
       "      <th>long_only</th>\n",
       "      <td>0.1128</td>\n",
       "      <td>0.1789</td>\n",
       "      <td>0.6304</td>\n",
       "      <td>-0.4829</td>\n",
       "      <td>0.9035</td>\n",
       "      <td>-0.1547</td>\n",
       "    </tr>\n",
       "  </tbody>\n",
       "</table>\n",
       "</div>"
      ],
      "text/plain": [
       "             mean     vol  sharpe_ratio    skew  corr_to_mkt  corr_to_value\n",
       "long_short  0.0474  0.1686        0.2809 -1.4336      -0.3061       -0.2386\n",
       "long_only   0.1128  0.1789        0.6304 -0.4829       0.9035       -0.1547"
      ]
     },
     "execution_count": 28,
     "metadata": {},
     "output_type": "execute_result"
    }
   ],
   "source": [
    "table2 = pd.DataFrame(index=['long_short', 'long_only'],\n",
    "    columns=['mean ', 'vol ', 'sharpe_ratio ', 'skew ', 'corr_to_mkt ', 'corr_to_value', ])\n",
    "table2.loc['long_short',:] = table_row(df_mom_size['1994':],portfolio='UMD')\n",
    "table2.loc['long_only',:] = table_row(df_mom_size['1994':], portfolio='rx_mom_U_FF')\n",
    "\n",
    "table2"
   ]
  },
  {
   "cell_type": "code",
   "execution_count": 39,
   "metadata": {},
   "outputs": [
    {
     "data": {
      "text/plain": [
       "Text(0.5, 1.0, 'Figure 1: Cumulative Returns')"
      ]
     },
     "execution_count": 39,
     "metadata": {},
     "output_type": "execute_result"
    },
    {
     "data": {
      "image/png": "[encoded data removed]",
      "text/plain": [
       "<Figure size 1200x500 with 1 Axes>"
      ]
     },
     "metadata": {},
     "output_type": "display_data"
    }
   ],
   "source": [
    "(1+ df_mom_size.loc['1994':,['UMD','rx_mom_U_FF']]).cumprod().plot(figsize = (12,5))\n",
    "plt.title(\"Figure 1: Cumulative Returns\")"
   ]
  },
  {
   "cell_type": "markdown",
   "metadata": {},
   "source": [
    "- The long-only positions outperfrom on a risk-adjusted basis with a much higher mean return since 1994. It also has less skewness, which makes it look very attractive. "
   ]
  },
  {
   "cell_type": "markdown",
   "metadata": {},
   "source": [
    "- The correlation to the market is very high about .90, which means this portfolio is not a great diversifier. "
   ]
  },
  {
   "cell_type": "markdown",
   "metadata": {},
   "source": [
    "## 3. Is Momentum Just Data Mining?\n",
    "\n",
    "- Assess how sensitive the threshold for the 'winners' and 'losers' is in the results. \n",
    "Compare these three constructions:\n",
    "\n",
    "- long the top 1 decile and short the bottom 1 deciles\n",
    "\n",
    "$\\tilde{r}^{momD1} = r^{mom(10)} - r^{mom(1)}$\n",
    "\n",
    "- long the top three deciles and short the bottom 3 deciles\n",
    "\n",
    "$\\tilde{r}^{momD3} = \\frac{1}{3}\\sum_{k=8}^{10} r^{mom(k)} - \\frac{1}{3}\\sum_{k=1}^{3} r^{mom(k)}$\n",
    "\n",
    "- long the top 5 deciles and short the bottom 5 deciles\n",
    "\n",
    "\n",
    "$\\tilde{r}^{momD5} = \\frac{1}{5}\\sum_{k=6}^{10} r^{mom(k)} - \\frac{1}{5}\\sum_{k=1}^{5} r^{mom(k)}$"
   ]
  }
 ],
 "metadata": {
  "kernelspec": {
   "display_name": "Python 3.10.7 64-bit",
   "language": "python",
   "name": "python3"
  },
  "language_info": {
   "codemirror_mode": {
    "name": "ipython",
    "version": 3
   },
   "file_extension": ".py",
   "mimetype": "text/x-python",
   "name": "python",
   "nbconvert_exporter": "python",
   "pygments_lexer": "ipython3",
   "version": "3.10.7"
  },
  "orig_nbformat": 4,
  "vscode": {
   "interpreter": {
    "hash": "aee8b7b246df8f9039afb4144a1f6fd8d2ca17a180786b69acc140d282b71a49"
   }
  }
 },
 "nbformat": 4,
 "nbformat_minor": 2
}
