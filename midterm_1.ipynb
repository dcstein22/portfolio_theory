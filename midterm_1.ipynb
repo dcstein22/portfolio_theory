{
 "cells": [
  {
   "cell_type": "markdown",
   "metadata": {},
   "source": [
    "# Midterm 1\n",
    "\n",
    "## 1. Short Answer"
   ]
  },
  {
   "cell_type": "code",
   "execution_count": 1,
   "metadata": {},
   "outputs": [],
   "source": [
    "import pandas as pd\n",
    "import numpy as np\n",
    "import matplotlib.pyplot as plt\n",
    "import statsmodels.api as sm \n",
    "import matplotlib as mpl\n",
    "import seaborn as sns\n",
    "import scipy as scs\n",
    "import math\n",
    "plt.style.use(\"seaborn\")\n",
    "mpl.rcParams['font.family'] = 'serif'\n",
    "%matplotlib inline"
   ]
  },
  {
   "cell_type": "markdown",
   "metadata": {},
   "source": [
    "1. Suppose an endowment is optimizing across multiple asset classes: equities, bonds, commodities, and currencies. They are considering whether to add cryptocurrencies as a new asset\n",
    "class for their mean-variance optimization. Do you think it is reasonable to make this decision\n",
    "based on whether the Sharpe ratio of crypto is higher than the Sharpe ratios of their current\n",
    "asset classes? Explain.\n",
    "\n",
    "- No it is not reasonable to make this decision based on whether the Sharpe ratio of cryptocurrency is higher than the other asset classes. The endowment must consider the risk-return trade off and covariances with respect to other asset classes when they consider an appropriate allocation of cryptocurrency. "
   ]
  },
  {
   "cell_type": "markdown",
   "metadata": {},
   "source": [
    "2. (5pts) True or False. (And explain your reason.)\n",
    "We found that small changes in estimated mean returns have large impacts on the mean-variance\n",
    "frontier. (By “frontier”, we mean the set of achievable means and variances.)\n",
    "\n",
    "\n",
    "- **True:** Small changes can drastically change the mean-variance frontier. The mean-variance frontier is extremly sensitive to small changes in capital market assumptions because of the invertible convariance matrix used to calculate these efficient allocation is very explosive - meaning one slight change in the asset will have significant changes the mean-variance frontier."
   ]
  },
  {
   "cell_type": "markdown",
   "metadata": {},
   "source": [
    "3. (5pts) One might estimate the Value-at-Risk directly from the historic data, (the empirical cdf,)\n",
    "or from using an approximation based on the normal distribution.\n",
    "Which did we find performed better in actual data? How did we judge which performed better?\n",
    "\n",
    "Using historical Value-at-Risk from the empirical cdf performed worse than using a rolling value at risk measure from the Barnstable case. To measure this, you count the number of times the actual returns were less than the approximated 5% value at risk. \n",
    "Using the data I found that actual returns were less than the historical VaR 3% of the time, whereas the actual returns were less than the rolling VaR 4.9% of the time. Obviously, the closer our estimated VaR frequency is to 5% the better it is because that is the theoretical VaR meausure we try to compute. "
   ]
  },
  {
   "cell_type": "markdown",
   "metadata": {},
   "source": [
    "4.. (5pts) What approach does Harvard take to getting more realistic weights?\n",
    "What is a problem with this approach?\n",
    "\n",
    "Harvard used a non-negative least square approach to calcualte more realistic weights. The problem with this approach is that is the solution weights do not scale proportionaly with the target mean."
   ]
  },
  {
   "cell_type": "markdown",
   "metadata": {},
   "source": [
    "5. What aspect of tools such as Ridge regression and LASSO regression are useful in meanvariance optimization? That is, what problem in the classic MV solution are they addressing?\n",
    "\n",
    "While classic MV optimization produces the *most efficient portfolio*, it produces extremley unrealistic portfolios with ridiculous weight allocations. Ride and Lasso regressions penalizes paramters to shrink them down to create a more focused portfolio. They solve the inverted covariance matrix problem."
   ]
  },
  {
   "cell_type": "markdown",
   "metadata": {},
   "source": [
    "6. (5pts) Consider three series: HFRIFWI, MLEIFCTR, and HDG.\n",
    "Explain how they differ. That is, why were we interested in all three with regard to hedge-fund\n",
    "replication.\n",
    "\n",
    "Proshares developed the Hedge Replcation ETF (**HDG**) that investors could buy to get exposure to the broad risk-return profile of hedge-funds. In order to replicate the returns of hedge funds, they used the Merrill Lynch Factor Model as a benchmark to replicate the HFRI index. The reason HDG did not just try to replicate HFRI is because the HFRI index is not investable. \n"
   ]
  },
  {
   "cell_type": "markdown",
   "metadata": {},
   "source": [
    "## 2. Allocation (15 Points)\n",
    "\n",
    "- Consider mean-variance optimization using total returns. (That is, you are NOT analyzing excess\n",
    "returns. No need to subtract or otherwise consider a risk-free rate.)\n"
   ]
  },
  {
   "cell_type": "markdown",
   "metadata": {},
   "source": [
    "1. (5pts) Report the weights of the Global Minimum Variance (GMV) portfolio, ω\n",
    "v\n",
    ", and the weights\n",
    "of the Tangency portfolio, ω\n",
    "t"
   ]
  },
  {
   "cell_type": "code",
   "execution_count": 5,
   "metadata": {},
   "outputs": [
    {
     "data": {
      "text/html": [
       "<div>\n",
       "<style scoped>\n",
       "    .dataframe tbody tr th:only-of-type {\n",
       "        vertical-align: middle;\n",
       "    }\n",
       "\n",
       "    .dataframe tbody tr th {\n",
       "        vertical-align: top;\n",
       "    }\n",
       "\n",
       "    .dataframe thead th {\n",
       "        text-align: right;\n",
       "    }\n",
       "</style>\n",
       "<table border=\"1\" class=\"dataframe\">\n",
       "  <thead>\n",
       "    <tr style=\"text-align: right;\">\n",
       "      <th></th>\n",
       "      <th>CL1</th>\n",
       "      <th>GC1</th>\n",
       "      <th>KC1</th>\n",
       "      <th>ES1</th>\n",
       "      <th>BP1</th>\n",
       "    </tr>\n",
       "    <tr>\n",
       "      <th>date</th>\n",
       "      <th></th>\n",
       "      <th></th>\n",
       "      <th></th>\n",
       "      <th></th>\n",
       "      <th></th>\n",
       "    </tr>\n",
       "  </thead>\n",
       "  <tbody>\n",
       "    <tr>\n",
       "      <th>2009-01-31</th>\n",
       "      <td>-0.113532</td>\n",
       "      <td>0.048627</td>\n",
       "      <td>0.061111</td>\n",
       "      <td>-0.086109</td>\n",
       "      <td>-0.007831</td>\n",
       "    </tr>\n",
       "    <tr>\n",
       "      <th>2009-02-28</th>\n",
       "      <td>0.044680</td>\n",
       "      <td>0.015187</td>\n",
       "      <td>-0.079479</td>\n",
       "      <td>-0.107294</td>\n",
       "      <td>-0.008309</td>\n",
       "    </tr>\n",
       "    <tr>\n",
       "      <th>2009-03-31</th>\n",
       "      <td>0.087892</td>\n",
       "      <td>-0.021111</td>\n",
       "      <td>0.034402</td>\n",
       "      <td>0.087209</td>\n",
       "      <td>0.001745</td>\n",
       "    </tr>\n",
       "    <tr>\n",
       "      <th>2009-04-30</th>\n",
       "      <td>-0.013826</td>\n",
       "      <td>-0.036543</td>\n",
       "      <td>-0.006491</td>\n",
       "      <td>0.094679</td>\n",
       "      <td>0.032897</td>\n",
       "    </tr>\n",
       "    <tr>\n",
       "      <th>2009-05-31</th>\n",
       "      <td>0.287437</td>\n",
       "      <td>0.098300</td>\n",
       "      <td>0.185518</td>\n",
       "      <td>0.055172</td>\n",
       "      <td>0.088934</td>\n",
       "    </tr>\n",
       "  </tbody>\n",
       "</table>\n",
       "</div>"
      ],
      "text/plain": [
       "                 CL1       GC1       KC1       ES1       BP1\n",
       "date                                                        \n",
       "2009-01-31 -0.113532  0.048627  0.061111 -0.086109 -0.007831\n",
       "2009-02-28  0.044680  0.015187 -0.079479 -0.107294 -0.008309\n",
       "2009-03-31  0.087892 -0.021111  0.034402  0.087209  0.001745\n",
       "2009-04-30 -0.013826 -0.036543 -0.006491  0.094679  0.032897\n",
       "2009-05-31  0.287437  0.098300  0.185518  0.055172  0.088934"
      ]
     },
     "execution_count": 5,
     "metadata": {},
     "output_type": "execute_result"
    }
   ],
   "source": [
    "file_path = \"C:/Users/dcste/OneDrive/Portfolio_Theory/Homework_Jupyter/portfolio_theory/midterm_1.xlsx\"\n",
    "total_returns = pd.read_excel(file_path, parse_dates=True).set_index(\"date\")\n",
    "total_returns.head()"
   ]
  },
  {
   "cell_type": "code",
   "execution_count": 36,
   "metadata": {},
   "outputs": [],
   "source": [
    "def gmv_portfolio(asset_return):\n",
    "    \"\"\" \n",
    "        Returns the Global Minimum Variance portfolio weights in a (1 x n) vector\n",
    "        Inputs: \n",
    "            asset_return - return for each asset (n x 1) Vector\n",
    "            cov_matrix = nxn covariance matrix for the assets\n",
    "    \"\"\"\n",
    "    mu_tilde = asset_return.mean()\n",
    "    asset_cov = asset_return.cov()\n",
    "    inverted_cov= np.linalg.inv(asset_cov)\n",
    "    one_vector = np.ones(len(asset_cov.index))\n",
    "    \n",
    "    den = (one_vector @ inverted_cov) @ (one_vector)\n",
    "    num =  inverted_cov @ one_vector\n",
    "    gmv_p = pd.Series((1/den)*num, index = mu_tilde.index )\n",
    "    return gmv_p\n",
    "def tangency_portfolio(asset_return):\n",
    "\n",
    "    mu_tilde = asset_return.mean()\n",
    "    cov_matrix = asset_return.cov()\n",
    "    inverted_cov = np.linalg.inv(cov_matrix)\n",
    "    one_vector = cov_matrix.shape[0]\n",
    "    weights = (inverted_cov@mu_tilde)/(np.ones(one_vector)@inverted_cov@mu_tilde)\n",
    "    omega_tan = pd.Series(weights, index = mu_tilde.index)\n",
    "    \n",
    "    return omega_tan\n",
    "def mv_portfolio(asset_return,target_ret,tangency_port):\n",
    "    mu_tilde = asset_return.mean()\n",
    "    sigma = asset_return.cov()\n",
    "    sigma_inv = np.linalg.inv(sigma)\n",
    "    n = sigma.shape[0]\n",
    "    weight_v = (sigma_inv @ np.ones(n))/(np.ones(n)@sigma_inv @ np.ones(n))\n",
    "    weight_t = tangency_port\n",
    "    omega = (target_ret-mu_tilde.T@weight_v)/(mu_tilde.T@weight_t - mu_tilde@weight_v)\n",
    "    omega_star = omega*weight_t + (1-omega)*weight_v\n",
    "    opt_port = pd.Series(omega_star, index = mu_tilde.index)\n",
    "    return opt_port\n"
   ]
  },
  {
   "cell_type": "code",
   "execution_count": 42,
   "metadata": {},
   "outputs": [],
   "source": [
    "min_v = gmv_portfolio(total_returns)\n",
    "tang_p = tangency_portfolio(total_returns)\n",
    "mv_port = mv_portfolio(total_returns,.02,tang_p)\n"
   ]
  },
  {
   "cell_type": "code",
   "execution_count": 29,
   "metadata": {},
   "outputs": [
    {
     "data": {
      "text/plain": [
       "CL1   -0.030674\n",
       "GC1    0.179111\n",
       "KC1   -0.010639\n",
       "ES1    0.092154\n",
       "BP1    0.770048\n",
       "dtype: float64"
      ]
     },
     "execution_count": 29,
     "metadata": {},
     "output_type": "execute_result"
    }
   ],
   "source": [
    "min_v"
   ]
  },
  {
   "cell_type": "code",
   "execution_count": 38,
   "metadata": {},
   "outputs": [
    {
     "data": {
      "text/plain": [
       "CL1   -0.128124\n",
       "GC1    1.191087\n",
       "KC1    0.097813\n",
       "ES1    4.220019\n",
       "BP1   -4.380796\n",
       "dtype: float64"
      ]
     },
     "execution_count": 38,
     "metadata": {},
     "output_type": "execute_result"
    }
   ],
   "source": [
    "tang_p"
   ]
  },
  {
   "cell_type": "code",
   "execution_count": 43,
   "metadata": {},
   "outputs": [
    {
     "data": {
      "text/plain": [
       "CL1   -0.065837\n",
       "GC1    0.544268\n",
       "KC1    0.028494\n",
       "ES1    1.581636\n",
       "BP1   -1.088561\n",
       "dtype: float64"
      ]
     },
     "execution_count": 43,
     "metadata": {},
     "output_type": "execute_result"
    }
   ],
   "source": [
    "mv_port"
   ]
  },
  {
   "cell_type": "code",
   "execution_count": 40,
   "metadata": {},
   "outputs": [],
   "source": [
    "def portfolio_stats(df_tilde, omega, annualize_fac):\n",
    "    # Mean\n",
    "    mean = df_tilde.mean() @ omega * annualize_fac\n",
    "\n",
    "    # Volatility\n",
    "    vol = (df_tilde @ omega).std() * np.sqrt(12)\n",
    "\n",
    "\n",
    "    # Sharpe ratio\n",
    "    sharpe_ratio = mean / vol\n",
    "\n",
    "    return round(pd.DataFrame(data = [mean, vol, sharpe_ratio], \n",
    "                              index = ['Mean', 'Volatility', 'Sharpe'], \n",
    "                              columns = ['Portfolio Stats']), 4)"
   ]
  },
  {
   "cell_type": "code",
   "execution_count": 44,
   "metadata": {},
   "outputs": [
    {
     "data": {
      "text/html": [
       "<div>\n",
       "<style scoped>\n",
       "    .dataframe tbody tr th:only-of-type {\n",
       "        vertical-align: middle;\n",
       "    }\n",
       "\n",
       "    .dataframe tbody tr th {\n",
       "        vertical-align: top;\n",
       "    }\n",
       "\n",
       "    .dataframe thead th {\n",
       "        text-align: right;\n",
       "    }\n",
       "</style>\n",
       "<table border=\"1\" class=\"dataframe\">\n",
       "  <thead>\n",
       "    <tr style=\"text-align: right;\">\n",
       "      <th></th>\n",
       "      <th>Portfolio Stats</th>\n",
       "    </tr>\n",
       "  </thead>\n",
       "  <tbody>\n",
       "    <tr>\n",
       "      <th>Mean</th>\n",
       "      <td>0.2400</td>\n",
       "    </tr>\n",
       "    <tr>\n",
       "      <th>Volatility</th>\n",
       "      <td>0.2245</td>\n",
       "    </tr>\n",
       "    <tr>\n",
       "      <th>Sharpe</th>\n",
       "      <td>1.0692</td>\n",
       "    </tr>\n",
       "  </tbody>\n",
       "</table>\n",
       "</div>"
      ],
      "text/plain": [
       "            Portfolio Stats\n",
       "Mean                 0.2400\n",
       "Volatility           0.2245\n",
       "Sharpe               1.0692"
      ]
     },
     "execution_count": 44,
     "metadata": {},
     "output_type": "execute_result"
    }
   ],
   "source": [
    "portfolio_stats(total_returns,mv_port,12)"
   ]
  },
  {
   "cell_type": "markdown",
   "metadata": {},
   "source": [
    "Suppose we re-did this problem assuming the existence of a risk-free rate. Would the\n",
    "solution with mean return of 0.20 be guaranteed to have less than or equal volatility as the\n",
    "solution above, where we did not have a risk-free rate? Why?\n",
    "\n",
    "\n",
    "The volatilitiy would be guarnteed to be less than the MV optimization because investors would allocate towards the safer asset that offers zero risk."
   ]
  },
  {
   "cell_type": "markdown",
   "metadata": {},
   "source": [
    "## Replication\n",
    "Consider replicating ES1 with BP1."
   ]
  },
  {
   "cell_type": "code",
   "execution_count": 47,
   "metadata": {},
   "outputs": [
    {
     "data": {
      "text/plain": [
       "const    0.011401\n",
       "BP1      0.817343\n",
       "dtype: float64"
      ]
     },
     "execution_count": 47,
     "metadata": {},
     "output_type": "execute_result"
    }
   ],
   "source": [
    "y = total_returns[\"ES1\"]\n",
    "\n",
    "X = sm.add_constant(total_returns[\"BP1\"])\n",
    "\n",
    "ESI_regress = sm.OLS(y,X).fit()\n",
    "ESI_regress.params"
   ]
  },
  {
   "cell_type": "code",
   "execution_count": 48,
   "metadata": {},
   "outputs": [],
   "source": [
    "from statsmodels.regression.rolling import RollingOLS"
   ]
  },
  {
   "cell_type": "code",
   "execution_count": 54,
   "metadata": {},
   "outputs": [
    {
     "data": {
      "text/plain": [
       "const    0.011664\n",
       "BP1      0.749920\n",
       "dtype: float64"
      ]
     },
     "execution_count": 54,
     "metadata": {},
     "output_type": "execute_result"
    }
   ],
   "source": [
    "model_rolling = RollingOLS(y,X, window =36)\n",
    "rolling_betas = model_rolling.fit().params.copy()\n",
    "\n",
    "rolling_betas.mean()"
   ]
  },
  {
   "cell_type": "code",
   "execution_count": 56,
   "metadata": {},
   "outputs": [
    {
     "data": {
      "text/plain": [
       "date\n",
       "2022-02-28    0.010155\n",
       "2022-03-31   -0.009789\n",
       "2022-04-30   -0.038274\n",
       "2022-05-31    0.013573\n",
       "2022-06-30   -0.030127\n",
       "dtype: float64"
      ]
     },
     "execution_count": 56,
     "metadata": {},
     "output_type": "execute_result"
    }
   ],
   "source": [
    "rep_IS = (rolling_betas*X).sum(axis = 1, skipna = False)\n",
    "rep_IS.tail()"
   ]
  },
  {
   "cell_type": "code",
   "execution_count": 57,
   "metadata": {},
   "outputs": [
    {
     "data": {
      "text/html": [
       "<div>\n",
       "<style scoped>\n",
       "    .dataframe tbody tr th:only-of-type {\n",
       "        vertical-align: middle;\n",
       "    }\n",
       "\n",
       "    .dataframe tbody tr th {\n",
       "        vertical-align: top;\n",
       "    }\n",
       "\n",
       "    .dataframe thead th {\n",
       "        text-align: right;\n",
       "    }\n",
       "</style>\n",
       "<table border=\"1\" class=\"dataframe\">\n",
       "  <thead>\n",
       "    <tr style=\"text-align: right;\">\n",
       "      <th></th>\n",
       "      <th>const</th>\n",
       "      <th>BP1</th>\n",
       "    </tr>\n",
       "    <tr>\n",
       "      <th>date</th>\n",
       "      <th></th>\n",
       "      <th></th>\n",
       "    </tr>\n",
       "  </thead>\n",
       "  <tbody>\n",
       "    <tr>\n",
       "      <th>2022-02-28</th>\n",
       "      <td>0.013660</td>\n",
       "      <td>1.178892</td>\n",
       "    </tr>\n",
       "    <tr>\n",
       "      <th>2022-03-31</th>\n",
       "      <td>0.014433</td>\n",
       "      <td>1.144168</td>\n",
       "    </tr>\n",
       "    <tr>\n",
       "      <th>2022-04-30</th>\n",
       "      <td>0.012270</td>\n",
       "      <td>1.247557</td>\n",
       "    </tr>\n",
       "    <tr>\n",
       "      <th>2022-05-31</th>\n",
       "      <td>0.013008</td>\n",
       "      <td>1.186588</td>\n",
       "    </tr>\n",
       "    <tr>\n",
       "      <th>2022-06-30</th>\n",
       "      <td>0.010191</td>\n",
       "      <td>1.251756</td>\n",
       "    </tr>\n",
       "  </tbody>\n",
       "</table>\n",
       "</div>"
      ],
      "text/plain": [
       "               const       BP1\n",
       "date                          \n",
       "2022-02-28  0.013660  1.178892\n",
       "2022-03-31  0.014433  1.144168\n",
       "2022-04-30  0.012270  1.247557\n",
       "2022-05-31  0.013008  1.186588\n",
       "2022-06-30  0.010191  1.251756"
      ]
     },
     "execution_count": 57,
     "metadata": {},
     "output_type": "execute_result"
    }
   ],
   "source": [
    "rolling_betas.tail()"
   ]
  },
  {
   "cell_type": "markdown",
   "metadata": {},
   "source": [
    "## Part Four\n"
   ]
  },
  {
   "cell_type": "code",
   "execution_count": 66,
   "metadata": {},
   "outputs": [],
   "source": [
    "w = np.repeat(1/2,2)\n",
    "data = total_returns[[\"GC1\",\"ES1\"]]\n"
   ]
  },
  {
   "cell_type": "code",
   "execution_count": 63,
   "metadata": {},
   "outputs": [],
   "source": [
    "def tail_risk_report(data, q):\n",
    "    df = data.copy()\n",
    "    df.index = data.index.date\n",
    "    report = pd.DataFrame(columns = df.columns)\n",
    "    \n",
    "    report.loc['Skewness'] = df.skew()\n",
    "    report.loc['Excess Kurtosis'] = df.kurtosis()\n",
    "    report.loc['VaR'] = df.quantile(q)\n",
    "    report.loc['Expected Shortfall'] = df[df < df.quantile(q)].mean()\n",
    "    \n",
    "    cum_ret = (1 + df).cumprod()\n",
    "    rolling_max = cum_ret.cummax()\n",
    "    drawdown = (cum_ret - rolling_max) / rolling_max\n",
    "    report.loc['Max Drawdown'] = drawdown.min()\n",
    "    report.loc['MDD Start'] = None\n",
    "    report.loc['MDD End'] = drawdown.idxmin()\n",
    "    report.loc['Recovery Date'] = None\n",
    "    \n",
    "    for col in df.columns:\n",
    "        report.loc['MDD Start', col] = (rolling_max.loc[:report.loc['MDD End', col]])[col].idxmax()\n",
    "        recovery_df = (drawdown.loc[report.loc['MDD End', col]:])[col]\n",
    "        try:\n",
    "            report.loc['Recovery Date', col] = recovery_df[recovery_df >= 0].index[0]\n",
    "            report.loc['Recovery period (days)'] = (report.loc['Recovery Date'] - report.loc['MDD Start']).dt.days\n",
    "\n",
    "        except:\n",
    "            report.loc['Recovery Date', col] = None\n",
    "            report.loc['Recovery period (days)'] = None\n",
    "\n",
    "    return round(report,4)"
   ]
  },
  {
   "cell_type": "code",
   "execution_count": 64,
   "metadata": {},
   "outputs": [
    {
     "name": "stderr",
     "output_type": "stream",
     "text": [
      "C:\\Users\\dcste\\AppData\\Local\\Temp\\ipykernel_19796\\838637553.py:15: FutureWarning: The default dtype for empty Series will be 'object' instead of 'float64' in a future version. Specify a dtype explicitly to silence this warning.\n",
      "  report.loc['MDD Start'] = None\n",
      "C:\\Users\\dcste\\AppData\\Local\\Temp\\ipykernel_19796\\838637553.py:17: FutureWarning: The default dtype for empty Series will be 'object' instead of 'float64' in a future version. Specify a dtype explicitly to silence this warning.\n",
      "  report.loc['Recovery Date'] = None\n",
      "C:\\Users\\dcste\\AppData\\Local\\Temp\\ipykernel_19796\\838637553.py:28: FutureWarning: The default dtype for empty Series will be 'object' instead of 'float64' in a future version. Specify a dtype explicitly to silence this warning.\n",
      "  report.loc['Recovery period (days)'] = None\n"
     ]
    },
    {
     "data": {
      "text/html": [
       "<div>\n",
       "<style scoped>\n",
       "    .dataframe tbody tr th:only-of-type {\n",
       "        vertical-align: middle;\n",
       "    }\n",
       "\n",
       "    .dataframe tbody tr th {\n",
       "        vertical-align: top;\n",
       "    }\n",
       "\n",
       "    .dataframe thead th {\n",
       "        text-align: right;\n",
       "    }\n",
       "</style>\n",
       "<table border=\"1\" class=\"dataframe\">\n",
       "  <thead>\n",
       "    <tr style=\"text-align: right;\">\n",
       "      <th></th>\n",
       "      <th>GC1</th>\n",
       "      <th>ES1</th>\n",
       "    </tr>\n",
       "  </thead>\n",
       "  <tbody>\n",
       "    <tr>\n",
       "      <th>Skewness</th>\n",
       "      <td>0.113357</td>\n",
       "      <td>-0.439491</td>\n",
       "    </tr>\n",
       "    <tr>\n",
       "      <th>Excess Kurtosis</th>\n",
       "      <td>0.142579</td>\n",
       "      <td>0.723828</td>\n",
       "    </tr>\n",
       "    <tr>\n",
       "      <th>VaR</th>\n",
       "      <td>-0.065664</td>\n",
       "      <td>-0.071244</td>\n",
       "    </tr>\n",
       "    <tr>\n",
       "      <th>Expected Shortfall</th>\n",
       "      <td>-0.08592</td>\n",
       "      <td>-0.091453</td>\n",
       "    </tr>\n",
       "    <tr>\n",
       "      <th>Max Drawdown</th>\n",
       "      <td>-0.429597</td>\n",
       "      <td>-0.203174</td>\n",
       "    </tr>\n",
       "    <tr>\n",
       "      <th>MDD Start</th>\n",
       "      <td>2011-08-31</td>\n",
       "      <td>2019-12-31</td>\n",
       "    </tr>\n",
       "    <tr>\n",
       "      <th>MDD End</th>\n",
       "      <td>2015-12-31</td>\n",
       "      <td>2020-03-31</td>\n",
       "    </tr>\n",
       "    <tr>\n",
       "      <th>Recovery Date</th>\n",
       "      <td>None</td>\n",
       "      <td>2020-07-31</td>\n",
       "    </tr>\n",
       "    <tr>\n",
       "      <th>Recovery period (days)</th>\n",
       "      <td>NaN</td>\n",
       "      <td>213.0</td>\n",
       "    </tr>\n",
       "  </tbody>\n",
       "</table>\n",
       "</div>"
      ],
      "text/plain": [
       "                               GC1         ES1\n",
       "Skewness                  0.113357   -0.439491\n",
       "Excess Kurtosis           0.142579    0.723828\n",
       "VaR                      -0.065664   -0.071244\n",
       "Expected Shortfall        -0.08592   -0.091453\n",
       "Max Drawdown             -0.429597   -0.203174\n",
       "MDD Start               2011-08-31  2019-12-31\n",
       "MDD End                 2015-12-31  2020-03-31\n",
       "Recovery Date                 None  2020-07-31\n",
       "Recovery period (days)         NaN       213.0"
      ]
     },
     "execution_count": 64,
     "metadata": {},
     "output_type": "execute_result"
    }
   ],
   "source": [
    "tail_risk_report(data,.05)"
   ]
  },
  {
   "cell_type": "code",
   "execution_count": 67,
   "metadata": {},
   "outputs": [
    {
     "data": {
      "text/html": [
       "<div>\n",
       "<style scoped>\n",
       "    .dataframe tbody tr th:only-of-type {\n",
       "        vertical-align: middle;\n",
       "    }\n",
       "\n",
       "    .dataframe tbody tr th {\n",
       "        vertical-align: top;\n",
       "    }\n",
       "\n",
       "    .dataframe thead th {\n",
       "        text-align: right;\n",
       "    }\n",
       "</style>\n",
       "<table border=\"1\" class=\"dataframe\">\n",
       "  <thead>\n",
       "    <tr style=\"text-align: right;\">\n",
       "      <th></th>\n",
       "      <th>Portfolio Stats</th>\n",
       "    </tr>\n",
       "  </thead>\n",
       "  <tbody>\n",
       "    <tr>\n",
       "      <th>Mean</th>\n",
       "      <td>0.0916</td>\n",
       "    </tr>\n",
       "    <tr>\n",
       "      <th>Volatility</th>\n",
       "      <td>0.1141</td>\n",
       "    </tr>\n",
       "    <tr>\n",
       "      <th>Sharpe</th>\n",
       "      <td>0.8026</td>\n",
       "    </tr>\n",
       "  </tbody>\n",
       "</table>\n",
       "</div>"
      ],
      "text/plain": [
       "            Portfolio Stats\n",
       "Mean                 0.0916\n",
       "Volatility           0.1141\n",
       "Sharpe               0.8026"
      ]
     },
     "execution_count": 67,
     "metadata": {},
     "output_type": "execute_result"
    }
   ],
   "source": [
    "portfolio_stats(data,w,12)"
   ]
  }
 ],
 "metadata": {
  "kernelspec": {
   "display_name": "Python 3.8.13 ('base')",
   "language": "python",
   "name": "python3"
  },
  "language_info": {
   "codemirror_mode": {
    "name": "ipython",
    "version": 3
   },
   "file_extension": ".py",
   "mimetype": "text/x-python",
   "name": "python",
   "nbconvert_exporter": "python",
   "pygments_lexer": "ipython3",
   "version": "3.8.13"
  },
  "orig_nbformat": 4,
  "vscode": {
   "interpreter": {
    "hash": "0c1539fdab5423ccb71a103dd32be34f784ee8436a6294d44b285423e124a650"
   }
  }
 },
 "nbformat": 4,
 "nbformat_minor": 2
}
